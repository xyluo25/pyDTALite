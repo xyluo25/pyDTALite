{
 "cells": [
  {
   "cell_type": "markdown",
   "id": "fifteen-beast",
   "metadata": {},
   "source": [
    "# Quick Start\n",
    "\n",
    "This notebook serves as a tutorial and illustrates how to use Path4GMNS step by step."
   ]
  },
  {
   "cell_type": "markdown",
   "id": "accompanied-express",
   "metadata": {},
   "source": [
    "## 1. Install Path4GMNS"
   ]
  },
  {
   "cell_type": "code",
   "execution_count": null,
   "id": "global-waste",
   "metadata": {
    "scrolled": true
   },
   "outputs": [],
   "source": [
    "!pip install path4gmns"
   ]
  },
  {
   "cell_type": "markdown",
   "id": "third-oklahoma",
   "metadata": {},
   "source": [
    "## 2. Prepare Input Data\n",
    "\n",
    "node.csv and link.csv complying GMNS is the minimum requirement for you to get started. You can either download the sample data sets with the built-in function or prepare your own data set."
   ]
  },
  {
   "cell_type": "code",
   "execution_count": null,
   "id": "verified-aircraft",
   "metadata": {},
   "outputs": [],
   "source": [
    "import path4gmns as pg"
   ]
  },
  {
   "cell_type": "markdown",
   "id": "de5b5eab",
   "metadata": {},
   "source": [
    "download_sample_data_sets() will download five sample data sets including ASU, Braess Paradox, Chicago Sketch, Lima Network, Sioux Falls, and Two Corridors. Each of them contains the following files.\n",
    "\n",
    "1. node.csv\n",
    "2. link.csv\n",
    "3. demand.csv\n",
    "4. settings.yml (for multimodal analyses)\n",
    "5. settings.csv (for DTALite)"
   ]
  },
  {
   "cell_type": "code",
   "execution_count": null,
   "id": "helpful-spending",
   "metadata": {},
   "outputs": [],
   "source": [
    "pg.download_sample_data_sets()"
   ]
  },
  {
   "cell_type": "markdown",
   "id": "annoying-berry",
   "metadata": {},
   "source": [
    "Navigate to the target data set directory. In this tutorial, we will use the [data set](https://github.com/jdlph/Path4GMNS/tree/dev/tests) where this Jupyter notebook is located for simplicity. You can check your present working directory (PWD) by the following commnad."
   ]
  },
  {
   "cell_type": "code",
   "execution_count": null,
   "id": "inner-vintage",
   "metadata": {},
   "outputs": [],
   "source": [
    "pwd"
   ]
  },
  {
   "cell_type": "markdown",
   "id": "1ed8250f",
   "metadata": {},
   "source": [
    "If you are working in an online environment, e.g., Google Colab. You can move to one of the downloaded sample data sets, say ASU, via the following lines. "
   ]
  },
  {
   "cell_type": "code",
   "execution_count": null,
   "id": "284e6817",
   "metadata": {},
   "outputs": [],
   "source": [
    "import os\n",
    "os.chdir('data/ASU')"
   ]
  },
  {
   "cell_type": "markdown",
   "id": "understanding-discretion",
   "metadata": {},
   "source": [
    "## 3. The Basic Functionalities\n",
    "### 3.1 Get the Shortest Path between Two Nodes\n",
    "Find the (static) shortest path (based on distance) and output it in the format of a sequence of node/link IDs."
   ]
  },
  {
   "cell_type": "code",
   "execution_count": null,
   "id": "introductory-laser",
   "metadata": {},
   "outputs": [],
   "source": [
    "# create the network object by reading node.csv and link.csv\n",
    "network = pg.read_network()\n",
    "\n",
    "print('\\nshortest path (node id) from node 1 to node 2, '\n",
    "      +network.find_shortest_path(1, 2))\n",
    "print('\\nshortest path (link id) from node 1 to node 2, '\n",
    "      +network.find_shortest_path(1, 2, seq_type='link'))"
   ]
  },
  {
   "cell_type": "markdown",
   "id": "85bf294e",
   "metadata": {},
   "source": [
    "Path4GMNS uses mile and mile per hour (mph) as the default units for length and speed in its internal calculation. If your link.csv features different length and speed units, please specify them in read_network(). The supported units are list as blow.\n",
    "\n",
    " **Length Units**\n",
    " * meter and m\n",
    " * kilometer and km\n",
    " * mile and mi\n",
    "\n",
    " **Speed Units**\n",
    " * kmh or kph\n",
    " * mph\n",
    " \n",
    " You would have to do manual conversion if your units are not among the above ones."
   ]
  },
  {
   "cell_type": "code",
   "execution_count": null,
   "id": "a07d88b4",
   "metadata": {},
   "outputs": [],
   "source": [
    "# the default are length_unit='meter' and speed_unit='kmh'\n",
    "network = pg.read_network(length_unit='mile', speed_unit='mph')\n",
    "\n",
    "print('\\nshortest path (node id) from node 1 to node 2, '\n",
    "      +network.find_shortest_path(1, 2))\n",
    "print('\\nshortest path (link id) from node 1 to node 2, '\n",
    "      +network.find_shortest_path(1, 2, seq_type='link'))"
   ]
  },
  {
   "cell_type": "markdown",
   "id": "stuffed-roman",
   "metadata": {},
   "source": [
    "### 3.2 Find Shortest Paths for All Individual Agents\n",
    "\n",
    "Agents are disaggreated demand using the aggregated travel demand between each OD pair, which is specified in demand.csv. Individual agents will be automatically set up via find_path_for_agents() on its first call.\n",
    "\n",
    "You will need both **demand.csv** and **zone.csv** to proceed. As our sample data sets **DO NOT have zone.csv**, please go through the following step to synthesize zones and OD demand matrix in the first place. Note that it will overwrite any existing zone.csv and demand.csv if you have them."
   ]
  },
  {
   "cell_type": "markdown",
   "id": "registered-complexity",
   "metadata": {},
   "source": [
    "#### 3.2.1 Synthesize Zones and OD Demand Matrix\n",
    "Path4GMNS can synthesize zones and OD demand matrix for you. If you have zone.csv and demand.csv, you can skip this step and go to *** 3.2.2 Load the synthesized zones and OD demand matrix***."
   ]
  },
  {
   "cell_type": "code",
   "execution_count": null,
   "id": "viral-civilian",
   "metadata": {
    "scrolled": false
   },
   "outputs": [],
   "source": [
    "network = pg.read_network()\n",
    "\n",
    "# by default, grid_dimension is 8, total_demand is 10,000,\n",
    "# time_budget is 120 min, mode is 'auto'\n",
    "pg.network_to_zones(network)\n",
    "pg.output_zones(network)\n",
    "# synthesized demand will be saved as demand.csv \n",
    "# and will overwrite any existing demand file with the same name.\n",
    "# synthesized zone will be output as zone.csv.\n",
    "pg.output_synthesized_demand(network)"
   ]
  },
  {
   "cell_type": "markdown",
   "id": "flush-electricity",
   "metadata": {},
   "source": [
    "#### 3.2.2 Load the Synthesized Zones and OD Demand Matrix"
   ]
  },
  {
   "cell_type": "code",
   "execution_count": null,
   "id": "brilliant-court",
   "metadata": {},
   "outputs": [],
   "source": [
    "network = pg.read_network()\n",
    "\n",
    "# it reads zone.csv by default\n",
    "pg.read_zones(network)\n",
    "# it reads demand.csv by default\n",
    "pg.load_demand(network)"
   ]
  },
  {
   "cell_type": "markdown",
   "id": "systematic-criminal",
   "metadata": {},
   "source": [
    "#### 3.3.3 Find Shortest Paths"
   ]
  },
  {
   "cell_type": "code",
   "execution_count": null,
   "id": "fifth-geometry",
   "metadata": {},
   "outputs": [],
   "source": [
    "network.find_path_for_agents()\n",
    "\n",
    "# output unique agent paths to agent_paths.csv\n",
    "# if you do not want to include geometry info in the output file,\n",
    "# use pg.output_agent_paths(network, False)\n",
    "pg.output_agent_paths(network)"
   ]
  },
  {
   "cell_type": "markdown",
   "id": "mysterious-diamond",
   "metadata": {},
   "source": [
    "### 3.3 Perform Path-Based UE Traffic Assignment\n",
    "\n",
    "Similar to Finding Shortest Paths for All Individual Agents, OD demand matrix is also need to perform this functionality. You will need to load the demand via pg.load_demand(network). Then you can conduct traffic assignment via the following lines."
   ]
  },
  {
   "cell_type": "code",
   "execution_count": null,
   "id": "advance-bridges",
   "metadata": {},
   "outputs": [],
   "source": [
    "network = pg.read_network()\n",
    "pg.read_zones(network)\n",
    "pg.load_demand(network)\n",
    "\n",
    "# specify the parameters for traffic assignment\n",
    "column_gen_num = 10\n",
    "column_update_num = 10\n",
    "\n",
    "# path-based UE only\n",
    "pg.perform_column_generation(column_gen_num, column_update_num, network)\n",
    "\n",
    "# if you do not want to include geometry info in the output file,\n",
    "# use pg.output_columns(network, False)\n",
    "# output column information to agent.csv\n",
    "pg.output_columns(network)\n",
    "# output link performance to link_performance.csv\n",
    "pg.output_link_performance(network)"
   ]
  },
  {
   "cell_type": "markdown",
   "id": "identified-timer",
   "metadata": {},
   "source": [
    "### 3.4 Evaluate Accessibility\n",
    "\n",
    "Accessiblity defines where you can go given a time budget and a transportation mode (e.g., auto). You can find the number of accessible zones from each zone (zone_accessibility.csv) along with the free flow travel time for each OD pair (od_accessibility.csv).\n",
    "\n",
    "The default mode is 'auto' and the default time budget is 240 minutes. We will come back to multimodal evaluation in a later section. Zone information is necessary for accessibility evaluation."
   ]
  },
  {
   "cell_type": "code",
   "execution_count": null,
   "id": "supreme-module",
   "metadata": {},
   "outputs": [],
   "source": [
    "# no need to load demand file for accessibility evaluation\n",
    "network = pg.read_network()\n",
    "pg.read_zones(network)\n",
    "\n",
    "pg.evaluate_accessibility(network, single_mode=True)"
   ]
  },
  {
   "cell_type": "markdown",
   "id": "ordinary-chance",
   "metadata": {},
   "source": [
    "### 3.5 Evaluate Equity\n",
    "\n",
    "Transportation equity is accessibility with respect to different demographics. Path4GMNS rovides the following simple info and statistics on equity given a time budget and a segmentation of zones.\n",
    "\n",
    "1. accessible zones.\n",
    "2. min accessibility. This metric refers to the zone with the minimum number of accessible zones. \n",
    "3. max accessibility. This metric refers to the zone with the maximum number of accessible zones. \n",
    "4. mean accessibility. The average number of accessible zones over a bin of zones (corresponding to a specific demographic) given a time budget and a transportation mode.\n",
    "\n",
    "Similar to accessiblity evaluation, the default mode is 'auto' but the default time budget is 60 minutes. Zone information is still required here."
   ]
  },
  {
   "cell_type": "code",
   "execution_count": null,
   "id": "dressed-enemy",
   "metadata": {},
   "outputs": [],
   "source": [
    "# no need to load demand file for equity evaluation\n",
    "network = pg.read_network()\n",
    "pg.read_zones(network)\n",
    "\n",
    "pg.evaluate_equity(network, single_mode=True)"
   ]
  },
  {
   "cell_type": "markdown",
   "id": "accepting-indian",
   "metadata": {},
   "source": [
    "## 4. Move Foward to Multimodal Evaluation\n",
    "\n",
    "In order to perform multimodal evaluation, the corresponding modes (i.e., agent types) must be presented in settings.yml. It will be parsed by pyyaml (5.1 or higher) to the Python engine at run-time. A sample file looks like blow. You can start from here and modify it towards your own needs. **Note that** the default agent type which is **'a' as type and 'auto' as name must be present in this file**. Otherwise, you will encounter an exception with message \"No AGENT type: a\". We will relax this requirement in a later release.\n",
    "\n",
    "```yaml\n",
    "agents:\n",
    "  - type: a\n",
    "    name: auto\n",
    "    vot: 10\n",
    "    flow_type: 0\n",
    "    pce: 1\n",
    "    free_speed: 60\n",
    "    use_link_ffs: true\n",
    "  - type: w\n",
    "    name: walk\n",
    "    vot: 10\n",
    "    flow_type: 0\n",
    "    pce: 1\n",
    "    free_speed: 10\n",
    "    use_link_ffs: false\n",
    "\n",
    "demand_periods:\n",
    "  - period: AM\n",
    "    time_period: 0700_0800\n",
    "\n",
    "demand_files:\n",
    "  - file_name: demand.csv\n",
    "    format_type: column\n",
    "    period: AM\n",
    "    agent_type: a\n",
    "```\n",
    "\n",
    "You can download a sample settings.yml (to your PWD) if you do not have one by the following command."
   ]
  },
  {
   "cell_type": "code",
   "execution_count": null,
   "id": "disabled-mobility",
   "metadata": {},
   "outputs": [],
   "source": [
    "pg.download_sample_setting_file()"
   ]
  },
  {
   "cell_type": "markdown",
   "id": "great-catholic",
   "metadata": {},
   "source": [
    "### 4.2 Get the Shortest Path between Two Nodes under a Specific Mode\n",
    "In 3.1, we used this functionlity implicitly for the default mode, which is 'a' or equivalently 'auto'. Now with 'walk' defined in settings.yml, we are able to find the shortest path under mode 'w' or 'walk'."
   ]
  },
  {
   "cell_type": "code",
   "execution_count": null,
   "id": "continuous-baker",
   "metadata": {},
   "outputs": [],
   "source": [
    "network = pg.read_network()\n",
    "\n",
    "print('\\nshortest path (node id) from node 1 to node 2, '\n",
    "      +network.find_shortest_path(1, 2, mode='w'))\n",
    "print('\\nshortest path (link id) from node 1 to node 2, '\n",
    "      +network.find_shortest_path(1, 2, mode='w', seq_type='link'))"
   ]
  },
  {
   "cell_type": "markdown",
   "id": "balanced-cattle",
   "metadata": {},
   "source": [
    "For this test data set, 3.1 and 4.1 have the same results as each link is open to all modes, i.e., their \"allowed_uses\" are \"all\". \n",
    "\n",
    "### 4.3 Find Shortest Paths for All Individual Agents under a Specific Mode\n",
    "\n",
    "The following code snippet illustrates how to find the shortest paths for all individal angents under mode 'w' or 'walk'."
   ]
  },
  {
   "cell_type": "code",
   "execution_count": null,
   "id": "velvet-creator",
   "metadata": {},
   "outputs": [],
   "source": [
    "network = pg.read_network()\n",
    "\n",
    "pg.read_zones(network)\n",
    "pg.load_demand(network)\n",
    "\n",
    "# if you have demand.csv, you can replace the above three lines by\n",
    "# network = pg.read_network()\n",
    "\n",
    "# or equivalently network.find_path_for_agents('walk')\n",
    "network.find_path_for_agents('w')\n",
    "\n",
    "# retrieving the origin, the destination, and the shortest path of a given agent\n",
    "# is exactly the same as before as well as outputting all unique agent paths\n",
    "pg.output_agent_paths(network)"
   ]
  },
  {
   "cell_type": "markdown",
   "id": "further-sampling",
   "metadata": {},
   "source": [
    "### 4.4 Perform Multimodal Accessibility Evaluation\n",
    "\n",
    "It is very similar to what we have done in 3.4 for a single-mode analysis."
   ]
  },
  {
   "cell_type": "code",
   "execution_count": null,
   "id": "anticipated-stage",
   "metadata": {},
   "outputs": [],
   "source": [
    "# no need to load demand file for accessibility evaluation\n",
    "network = pg.read_network()\n",
    "pg.read_zones(network)\n",
    "\n",
    "pg.evaluate_accessibility(network)"
   ]
  },
  {
   "cell_type": "markdown",
   "id": "premium-italian",
   "metadata": {},
   "source": [
    "### 4.5 Perform Multimodal Equity Evaluation\n",
    "\n",
    "By removing \"single_mode=True\" from the arugment list in evaluate_equity(), multimodal evaluation will be triggered for all modes defined in settings.yml"
   ]
  },
  {
   "cell_type": "code",
   "execution_count": null,
   "id": "appointed-monte",
   "metadata": {},
   "outputs": [],
   "source": [
    "# no need to load demand file for equity evaluation\n",
    "network = pg.read_network()\n",
    "pg.read_zones(network)\n",
    "\n",
    "pg.evaluate_equity(network)"
   ]
  },
  {
   "cell_type": "markdown",
   "id": "signed-marsh",
   "metadata": {},
   "source": [
    "## 5. Advanced Features\n",
    "\n",
    "### 5.1 In Case of Special Events\n",
    "\n",
    "A special event often comes with capacity reduction over affected links. You can introduce one special event for each demand period in settings.yml as below. \n",
    "\n",
    "```yaml\n",
    "demand_periods:\n",
    "  - period: AM\n",
    "    time_period: 0700_0800\n",
    "    special_event:\n",
    "      name: work_zone\n",
    "      enable: true\n",
    "      # with respect to iterations in column generation\n",
    "      beg_iteration: 1\n",
    "      end_iteration: 20\n",
    "      affected_links:\n",
    "        - link_id: 1\n",
    "          reduction_ratio: 0.5\n",
    "        - link_id: 2\n",
    "          reduction_ratio: 0.4\n",
    "        - link_id: 3\n",
    "          reduction_ratio: 0.6\n",
    "        - link_id: 4\n",
    "          reduction_ratio: 0\n",
    "```\n",
    "\n",
    "If the original capacity of an affected link i is C, its capacity then will be r * C with a reduction ratio of r when a special event is present. For an affected link, setting its reduction_ratio to 0 is equivalent to removing it from the entire demand period. You can turn on or off a special event by setting enable to true or false.\n",
    "\n",
    "Then you can conduct traffic assignment (as shown in 3.3) and see the impact from a special event.\n",
    "\n",
    "### 5.2 Accessibility Considering Time-Dependent Link Travel Time\n",
    "\n",
    "In 3.4 and 4.4, accessiblity is evluated using the link free flow travel time, which is determined by link length and link free-flow speed under a specific mode. \n",
    "\n",
    "Link travel time varies over time so does accessibility. When the time-dependent accessibility is of interested, time-dependent link travel time (i.e., VDF_fftt from a given demand period in link.csv) will come into play by overwriting the (static) link free-flow speed (from either link.csv or settings.yml. both are denoted as \"free_speed\")."
   ]
  },
  {
   "cell_type": "code",
   "execution_count": null,
   "id": "sought-commercial",
   "metadata": {},
   "outputs": [],
   "source": [
    "network = pg.read_network()\n",
    "\n",
    "# time-dependent accessibility under the default mode auto (i.e., 'a')\n",
    "# for demand period 0 (i.e., VDF_fftt1 in link.csv will be used in the evaluation)\n",
    "pg.evaluate_accessibility(network, single_mode=True, time_dependent=True)\n",
    "\n",
    "# if you would like to evaluate accessibility under a target mode, say walk, then\n",
    "pg.evaluate_accessibility(network, single_mode=True, mode='w', time_dependent=True)"
   ]
  },
  {
   "cell_type": "markdown",
   "id": "clear-celtic",
   "metadata": {},
   "source": [
    "## 6. DTALite\n",
    "\n",
    "Path4GMNS also serves as an API to the C++-based DTALite to conduct various multimodal traffic assignments including,\n",
    "\n",
    "    0: Link-based UE,\n",
    "    1: Path-based UE,\n",
    "    2: UE + Dynamic Traffic Assignment (DTA),\n",
    "    3: OD Matrix Estimation (ODME).\n",
    "\n",
    "Here we only demonstrate how to perform path-based UE (i.e., mode 1) using DTALite from Path4GMNS. You would need [settings.csv](https://github.com/jdlph/Path4GMNS/blob/dev/tests/settings.csv) to get started."
   ]
  },
  {
   "cell_type": "code",
   "execution_count": null,
   "id": "anonymous-services",
   "metadata": {},
   "outputs": [],
   "source": [
    "mode = 1\n",
    "column_gen_num = 10\n",
    "column_update_num = 10\n",
    "\n",
    "pg.perform_network_assignment_DTALite(mode, column_gen_num, column_update_num)"
   ]
  },
  {
   "cell_type": "markdown",
   "id": "intelligent-finder",
   "metadata": {},
   "source": [
    "## 7. Legacy Way to Load Demand and Zone Info\n",
    "\n",
    "### A Little Bit of History\n",
    "\n",
    "During the early development of Path4GMNS, demand.csv is presumed to be given and zone information is provided along node.csv. The latter is the current design of GMNS and is endorsed in [OSM2GMNS](https://github.com/jiawlu/OSM2GMNS). This assumption leads to the following legacy way (as the original design of Path4GMNS) to load demand and zone information while the new way demonstrated was in **Section 3.2**. \n",
    "\n",
    "\n",
    "```python\n",
    "network = pg.read_network(load_demand=True)\n",
    "```\n",
    "\n",
    "\n",
    "The demand file is specified in settings.yml as demand.csv. You can change it to any demand file in your PWD. This design actually allows us to load multiple demand files simultaneously corresponding to different period and agent_type. We will elaborate it in a future release.\n",
    "\n",
    "```yaml\n",
    "---\n",
    "# settings for Path4GMNS\n",
    "agents:\n",
    "  - type: a\n",
    "    name: auto\n",
    "    vot: 10\n",
    "    flow_type: 0\n",
    "    pce: 1\n",
    "    free_speed: 60\n",
    "    use_link_ffs: true\n",
    "  - type: w\n",
    "    name: walk\n",
    "    vot: 10\n",
    "    flow_type: 0\n",
    "    pce: 1\n",
    "    free_speed: 10\n",
    "    use_link_ffs: false\n",
    "\n",
    "demand_periods:\n",
    "  - period: AM\n",
    "    time_period: 0700_0800\n",
    "\n",
    "demand_files:\n",
    "  - file_name: demand.csv\n",
    "    format_type: column\n",
    "    period: AM\n",
    "    agent_type: a\n",
    "\n",
    "```\n",
    "If you came to Path4GMNS before v0.8.6, you probably notice that \"load_demand=True\" was not required as demand will be loaded by default. This is one of the changes introduced in v0.8.6 to better promote the new way of loading demand. The legacy way are still used in [demo.py](https://github.com/jdlph/Path4GMNS/blob/dev/tests/demo.py) and the code examples in [User Manual](https://github.com/jdlph/Path4GMNS/tree/dev#user-manual), which will be updated gradually over time. You can still use this legacy way with the [existing sample data sets](https://github.com/jdlph/Path4GMNS/tree/dev/data), which do not have zone.csv but have zone information in node.csv. \n",
    "\n",
    "**Note that** read_network(load_demand=True) will **automatically check OD connectivity** which **requires zone info to be specified in node.csv**. Otherwise, you will get an exception stating \"NO VALID OD VOLUME!! DOUBLE CHECK YOUR demand.csv\". \n",
    "\n",
    "### 7.1 Find Shortest Paths for All Individual Agents"
   ]
  },
  {
   "cell_type": "code",
   "execution_count": null,
   "id": "interpreted-purple",
   "metadata": {},
   "outputs": [],
   "source": [
    "# zone info must be present in node.csv\n",
    "# demand.csv must be given\n",
    "network = pg.read_network(load_demand=True)\n",
    "network.find_path_for_agents()\n",
    "\n",
    "agent_id = 1\n",
    "print('\\norigin node id of agent is '\n",
    "      f'{network.get_agent_orig_node_id(agent_id)}')\n",
    "print('destination node id of agent is '\n",
    "      f'{network.get_agent_dest_node_id(agent_id)}')\n",
    "print('shortest path (node id) of agent, '\n",
    "      f'{network.get_agent_node_path(agent_id)}')\n",
    "print('shortest path (link id) of agent, '\n",
    "      f'{network.get_agent_link_path(agent_id)}')\n",
    "\n",
    "agent_id = 100\n",
    "print('\\norigin node id of agent is '\n",
    "      f'{network.get_agent_orig_node_id(agent_id)}')\n",
    "print('destination node id of agent is '\n",
    "      f'{network.get_agent_dest_node_id(agent_id)}')\n",
    "print('shortest path (node id) of agent, '\n",
    "      f'{network.get_agent_node_path(agent_id)}')\n",
    "print('shortest path (link id) of agent, '\n",
    "      f'{network.get_agent_link_path(agent_id)}')\n",
    "\n",
    "# output unique agent paths to a csv file\n",
    "# if you do not want to include geometry info in the output file,\n",
    "# use pg.output_agent_paths(network, False)\n",
    "pg.output_agent_paths(network)"
   ]
  },
  {
   "cell_type": "markdown",
   "id": "insured-electronics",
   "metadata": {},
   "source": [
    "### 7.2 Perform Path-Based UE Traffic Assignment"
   ]
  },
  {
   "cell_type": "code",
   "execution_count": null,
   "id": "natural-jesus",
   "metadata": {},
   "outputs": [],
   "source": [
    "# zone info must be present in node.csv\n",
    "# demand.csv must be given\n",
    "network = pg.read_network(load_demand=True)\n",
    "\n",
    "column_gen_num = 10\n",
    "column_update_num = 10\n",
    "\n",
    "# path-based UE only\n",
    "pg.perform_column_generation(column_gen_num, column_update_num, network)\n",
    "\n",
    "# if you do not want to include geometry info in the output file,\n",
    "# use pg.output_columns(network, False)\n",
    "pg.output_columns(network)\n",
    "pg.output_link_performance(network)"
   ]
  },
  {
   "cell_type": "markdown",
   "id": "5d68b5d7",
   "metadata": {},
   "source": [
    "### 7.3 Evaluate Multimodal Accessibility"
   ]
  },
  {
   "cell_type": "code",
   "execution_count": null,
   "id": "4b3decc8",
   "metadata": {},
   "outputs": [],
   "source": [
    "# zone info must be present in node.csv\n",
    "# no need to load demand file for accessibility evaluation\n",
    "network = pg.read_network()\n",
    "\n",
    "pg.evaluate_accessibility(network)"
   ]
  },
  {
   "cell_type": "markdown",
   "id": "6226ee32",
   "metadata": {},
   "source": [
    "### 7.4 Evaluate Multimodal Equity"
   ]
  },
  {
   "cell_type": "code",
   "execution_count": null,
   "id": "87a65ad8",
   "metadata": {},
   "outputs": [],
   "source": [
    "# zone info must be present in node.csv\n",
    "# no need to load demand file for equity evaluation\n",
    "network = pg.read_network()\n",
    "\n",
    "pg.evaluate_equity(network)"
   ]
  }
 ],
 "metadata": {
  "kernelspec": {
   "display_name": "env_test",
   "language": "python",
   "name": "python3"
  },
  "language_info": {
   "codemirror_mode": {
    "name": "ipython",
    "version": 3
   },
   "file_extension": ".py",
   "mimetype": "text/x-python",
   "name": "python",
   "nbconvert_exporter": "python",
   "pygments_lexer": "ipython3",
   "version": "3.10.8 | packaged by conda-forge | (main, Nov 24 2022, 14:07:00) [MSC v.1916 64 bit (AMD64)]"
  },
  "vscode": {
   "interpreter": {
    "hash": "4da71bf119b8ef51c70c4023f5cbdb3c1aedf4d5f201046e16cfb736088a8d68"
   }
  }
 },
 "nbformat": 4,
 "nbformat_minor": 5
}
